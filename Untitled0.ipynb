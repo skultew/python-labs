{
  "nbformat": 4,
  "nbformat_minor": 0,
  "metadata": {
    "colab": {
      "provenance": [],
      "collapsed_sections": [],
      "authorship_tag": "ABX9TyPGqqI96NaazNXr8fudGUcc",
      "include_colab_link": true
    },
    "kernelspec": {
      "name": "python3",
      "display_name": "Python 3"
    },
    "language_info": {
      "name": "python"
    }
  },
  "cells": [
    {
      "cell_type": "markdown",
      "metadata": {
        "id": "view-in-github",
        "colab_type": "text"
      },
      "source": [
        "<a href=\"https://colab.research.google.com/github/skultew/python-labs/blob/main/Untitled0.ipynb\" target=\"_parent\"><img src=\"https://colab.research.google.com/assets/colab-badge.svg\" alt=\"Open In Colab\"/></a>"
      ]
    },
    {
      "cell_type": "code",
      "execution_count": 1,
      "metadata": {
        "colab": {
          "base_uri": "https://localhost:8080/"
        },
        "id": "Mt2aPKvhlNek",
        "outputId": "f7151c1a-30d9-4774-e4bd-555db8c6e8e2"
      },
      "outputs": [
        {
          "output_type": "stream",
          "name": "stdout",
          "text": [
            "Document what you are reading!!!!"
          ]
        }
      ],
      "source": [
        "print('Document','what','you are reading',end='!!!!')\n"
      ]
    },
    {
      "cell_type": "code",
      "source": [
        "first_var = 5\n",
        "second_var = 'Document'\n",
        "print(f'{second_var} #{first_var}')"
      ],
      "metadata": {
        "colab": {
          "base_uri": "https://localhost:8080/"
        },
        "id": "JmMsxx__l2vl",
        "outputId": "66f038f5-c3dd-42d4-80fd-1aecc24b849c"
      },
      "execution_count": 6,
      "outputs": [
        {
          "output_type": "stream",
          "name": "stdout",
          "text": [
            "Document #5\n"
          ]
        }
      ]
    },
    {
      "cell_type": "code",
      "source": [
        "name = input('What it your name? ')\n",
        "print(name)"
      ],
      "metadata": {
        "colab": {
          "base_uri": "https://localhost:8080/"
        },
        "id": "r7kPveDCnjQ1",
        "outputId": "29e5b39b-9570-49c1-9feb-e7a40cd6a63f"
      },
      "execution_count": 10,
      "outputs": [
        {
          "output_type": "stream",
          "name": "stdout",
          "text": [
            "What it your name? Egor\n",
            "Egor\n"
          ]
        }
      ]
    },
    {
      "cell_type": "code",
      "source": [
        "type(name)"
      ],
      "metadata": {
        "colab": {
          "base_uri": "https://localhost:8080/"
        },
        "id": "0YRww5r8oIQ0",
        "outputId": "81c3a617-816b-4cd6-9358-c2cc1b560549"
      },
      "execution_count": 11,
      "outputs": [
        {
          "output_type": "execute_result",
          "data": {
            "text/plain": [
              "str"
            ]
          },
          "metadata": {},
          "execution_count": 11
        }
      ]
    },
    {
      "cell_type": "code",
      "source": [
        "a = 5\n",
        "type(5)"
      ],
      "metadata": {
        "colab": {
          "base_uri": "https://localhost:8080/"
        },
        "id": "viK7cc8toezq",
        "outputId": "bd160892-3550-4290-b4b0-ba9ac9fd2ac3"
      },
      "execution_count": 12,
      "outputs": [
        {
          "output_type": "execute_result",
          "data": {
            "text/plain": [
              "int"
            ]
          },
          "metadata": {},
          "execution_count": 12
        }
      ]
    },
    {
      "cell_type": "code",
      "source": [
        "a = 'Egor'\n",
        "b = 3\n",
        "print(a*b)"
      ],
      "metadata": {
        "colab": {
          "base_uri": "https://localhost:8080/"
        },
        "id": "uzw1hNhao1yz",
        "outputId": "d68948f7-b6ac-4b5c-d10b-16afa877b482"
      },
      "execution_count": 28,
      "outputs": [
        {
          "output_type": "stream",
          "name": "stdout",
          "text": [
            "EgorEgorEgor\n"
          ]
        }
      ]
    },
    {
      "cell_type": "code",
      "source": [
        "a = int(input())\n",
        "b = int(input())\n",
        "print(a**b)"
      ],
      "metadata": {
        "colab": {
          "base_uri": "https://localhost:8080/"
        },
        "id": "yoGjrMj5qBT4",
        "outputId": "c50d3d5c-8f01-4ca1-c820-d8449097ba0f"
      },
      "execution_count": 33,
      "outputs": [
        {
          "output_type": "stream",
          "name": "stdout",
          "text": [
            "2\n",
            "4\n",
            "16\n"
          ]
        }
      ]
    },
    {
      "cell_type": "code",
      "source": [
        "number1 = int(input('number1 ='))\n",
        "number2 = int(input('number2 = '))\n",
        "op = input('op =')\n",
        "result = None\n",
        "if op == '+':\n",
        "  result = number1+number2\n",
        "elif op == '-':\n",
        "  result = number1*number2\n",
        "elif op == '/':\n",
        "  result = number1/number2\n",
        "else:\n",
        "  print('Cake is lie')\n",
        "result_str = str(number1) + '+' + str(number2) + '=' + str(result)\n",
        "print(result_str)"
      ],
      "metadata": {
        "colab": {
          "base_uri": "https://localhost:8080/"
        },
        "id": "jm8XBOw6rKb2",
        "outputId": "c6e3c961-0db2-4f62-ed90-1678ecec2130"
      },
      "execution_count": 47,
      "outputs": [
        {
          "output_type": "stream",
          "name": "stdout",
          "text": [
            "number1 =3\n",
            "number2 = 5\n",
            "op =*\n",
            "Cake is lie\n",
            "3+5=None\n"
          ]
        }
      ]
    },
    {
      "cell_type": "code",
      "source": [
        "name = input('What is your name ')\n",
        "age = input('What is your age? ')\n",
        "if name == '' and age == '':\n",
        "  print('No name and no age')\n",
        "elif age == '':\n",
        "  print('No age')\n",
        "elif name == '':\n",
        "  print('No name')\n",
        "else: print('Thx')\n"
      ],
      "metadata": {
        "colab": {
          "base_uri": "https://localhost:8080/"
        },
        "id": "whqyAG4jwsi8",
        "outputId": "08179638-713c-47a1-ce4a-4fc783fe5167"
      },
      "execution_count": 55,
      "outputs": [
        {
          "output_type": "stream",
          "name": "stdout",
          "text": [
            "What is your name Egor\n",
            "What is your age? \n",
            "No age\n"
          ]
        }
      ]
    },
    {
      "cell_type": "code",
      "source": [
        "boolean_var_1 = True \n",
        "boolean_var_2 = False"
      ],
      "metadata": {
        "id": "Irp8T8rp7A6X"
      },
      "execution_count": 57,
      "outputs": []
    },
    {
      "cell_type": "code",
      "source": [
        "boolean_var_1 or boolean_var_2"
      ],
      "metadata": {
        "colab": {
          "base_uri": "https://localhost:8080/"
        },
        "id": "1Uxm-2C57TIW",
        "outputId": "44024f69-25c3-4636-c888-2c133e962032"
      },
      "execution_count": 59,
      "outputs": [
        {
          "output_type": "execute_result",
          "data": {
            "text/plain": [
              "True"
            ]
          },
          "metadata": {},
          "execution_count": 59
        }
      ]
    },
    {
      "cell_type": "code",
      "source": [
        "month = input('What month?\\n ')\n",
        "year = int(input('What year?\\n '))\n",
        "if month == 'January' or month == 'March' or month == 'May':\n",
        "  print(31)\n",
        "elif month == 'February' and year % 4 == 0 and (year % 100 != 0 or year % 400 == 0):\n",
        "  print(29)\n",
        "elif month == 'February' and not(year % 4 == 0 and year % 100 != 0 or year % 400 ==0):\n",
        "  print(28)\n",
        "else:\n",
        "  print(30)\n"
      ],
      "metadata": {
        "colab": {
          "base_uri": "https://localhost:8080/"
        },
        "id": "epe4br2O80yY",
        "outputId": "d27acbd2-3ddf-4aae-d792-a6e7ef00d631"
      },
      "execution_count": 63,
      "outputs": [
        {
          "output_type": "stream",
          "name": "stdout",
          "text": [
            "What month?\n",
            " April\n",
            "What year?\n",
            " 2000\n",
            "30\n"
          ]
        }
      ]
    },
    {
      "cell_type": "code",
      "source": [
        "def function_name(argument1, argument2):\n",
        "   "
      ],
      "metadata": {
        "id": "aLon48oaCR2K"
      },
      "execution_count": null,
      "outputs": []
    },
    {
      "cell_type": "code",
      "source": [
        "def line(x):\n",
        "  global argument1\n",
        "  argument1 = 3 +5\n",
        "  y = 2 + 3 * x + 5 * argument2\n",
        "  return y\n",
        "\n",
        "argument1 = int(input('Write X'))\n",
        "print(line(argument1))\n",
        "print('-------------')\n",
        "print(argument1)"
      ],
      "metadata": {
        "colab": {
          "base_uri": "https://localhost:8080/"
        },
        "id": "UA2TbBSgCqmM",
        "outputId": "70eb275a-e586-49f4-8898-6d2100f4112d"
      },
      "execution_count": 68,
      "outputs": [
        {
          "output_type": "stream",
          "name": "stdout",
          "text": [
            "Write X4\n",
            "Write Z5\n",
            "39\n"
          ]
        }
      ]
    },
    {
      "cell_type": "code",
      "source": [
        "print('Write X')\n"
      ],
      "metadata": {
        "id": "mP-hL4YgDG8b"
      },
      "execution_count": null,
      "outputs": []
    },
    {
      "cell_type": "code",
      "source": [
        "x = int(input('Write X'))\n",
        "\n",
        "line(x)"
      ],
      "metadata": {
        "id": "0puuAH33Eamz"
      },
      "execution_count": null,
      "outputs": []
    }
  ]
}